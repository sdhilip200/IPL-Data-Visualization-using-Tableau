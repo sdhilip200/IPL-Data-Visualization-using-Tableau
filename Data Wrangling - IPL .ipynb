{
 "cells": [
  {
   "cell_type": "code",
   "execution_count": 652,
   "metadata": {},
   "outputs": [],
   "source": [
    "# Import necessary libraries\n",
    "import pandas as pd\n",
    "import numpy as np\n"
   ]
  },
  {
   "cell_type": "code",
   "execution_count": 653,
   "metadata": {},
   "outputs": [],
   "source": [
    "# Reading file\n",
    "df = pd.read_excel(\"IPL dataset.xlsx\")"
   ]
  },
  {
   "cell_type": "code",
   "execution_count": 595,
   "metadata": {},
   "outputs": [
    {
     "data": {
      "text/html": [
       "<div>\n",
       "<style scoped>\n",
       "    .dataframe tbody tr th:only-of-type {\n",
       "        vertical-align: middle;\n",
       "    }\n",
       "\n",
       "    .dataframe tbody tr th {\n",
       "        vertical-align: top;\n",
       "    }\n",
       "\n",
       "    .dataframe thead th {\n",
       "        text-align: right;\n",
       "    }\n",
       "</style>\n",
       "<table border=\"1\" class=\"dataframe\">\n",
       "  <thead>\n",
       "    <tr style=\"text-align: right;\">\n",
       "      <th></th>\n",
       "      <th>Match_date</th>\n",
       "      <th>Match_number</th>\n",
       "      <th>Match_venue</th>\n",
       "      <th>Match_time</th>\n",
       "      <th>Toss_winner</th>\n",
       "      <th>Toss_decision</th>\n",
       "      <th>Team1</th>\n",
       "      <th>Team1_score</th>\n",
       "      <th>Team2</th>\n",
       "      <th>Team2_score</th>\n",
       "      <th>Winning_team</th>\n",
       "      <th>Winning_margin</th>\n",
       "    </tr>\n",
       "  </thead>\n",
       "  <tbody>\n",
       "    <tr>\n",
       "      <th>0</th>\n",
       "      <td>Apr 18, 2008</td>\n",
       "      <td>1st match</td>\n",
       "      <td>M Chinnaswamy Stadium, Bangalore</td>\n",
       "      <td>night</td>\n",
       "      <td>Royal Challengers Bangalore</td>\n",
       "      <td>field</td>\n",
       "      <td>Kolkata Knight Riders</td>\n",
       "      <td>222/3</td>\n",
       "      <td>RCB</td>\n",
       "      <td>82</td>\n",
       "      <td>Kolkata Knight Riders</td>\n",
       "      <td>140 runs</td>\n",
       "    </tr>\n",
       "    <tr>\n",
       "      <th>1</th>\n",
       "      <td>Apr 19, 2008</td>\n",
       "      <td>2nd match</td>\n",
       "      <td>Punjab Cricket Association Stadium, Mohali, Ch...</td>\n",
       "      <td>day/night</td>\n",
       "      <td>Chennai Super Kings</td>\n",
       "      <td>bat</td>\n",
       "      <td>Chennai Super Kings</td>\n",
       "      <td>240/5</td>\n",
       "      <td>Kings XI Punjab</td>\n",
       "      <td>207/4</td>\n",
       "      <td>Chennai Super Kings</td>\n",
       "      <td>33 runs</td>\n",
       "    </tr>\n",
       "    <tr>\n",
       "      <th>2</th>\n",
       "      <td>Apr 19, 2008</td>\n",
       "      <td>3rd match</td>\n",
       "      <td>Feroz Shah Kotla, Delhi</td>\n",
       "      <td>night</td>\n",
       "      <td>Rajasthan Royals</td>\n",
       "      <td>bat</td>\n",
       "      <td>Rajasthan Royals</td>\n",
       "      <td>129/8</td>\n",
       "      <td>Delhi Daredevils</td>\n",
       "      <td>132/1</td>\n",
       "      <td>Delhi Daredevils</td>\n",
       "      <td>9 wickets (with 29 balls remaining)</td>\n",
       "    </tr>\n",
       "    <tr>\n",
       "      <th>3</th>\n",
       "      <td>Apr 20, 2008</td>\n",
       "      <td>4th match</td>\n",
       "      <td>Eden Gardens, Kolkata</td>\n",
       "      <td>day/night</td>\n",
       "      <td>Deccan Chargers</td>\n",
       "      <td>bat</td>\n",
       "      <td>Deccan Chargers</td>\n",
       "      <td>110</td>\n",
       "      <td>Kolkata Knight Riders</td>\n",
       "      <td>112/5</td>\n",
       "      <td>Kolkata Knight Riders</td>\n",
       "      <td>5 wickets (with 6 balls remaining)</td>\n",
       "    </tr>\n",
       "    <tr>\n",
       "      <th>4</th>\n",
       "      <td>Apr 20, 2008</td>\n",
       "      <td>5th match</td>\n",
       "      <td>Wankhede Stadium, Mumbai</td>\n",
       "      <td>night</td>\n",
       "      <td>Mumbai Indians</td>\n",
       "      <td>bat</td>\n",
       "      <td>Mumbai Indians</td>\n",
       "      <td>165/6</td>\n",
       "      <td>RCB</td>\n",
       "      <td>166/5</td>\n",
       "      <td>Royal Challengers Bangalore</td>\n",
       "      <td>5 wickets (with 2 balls remaining)</td>\n",
       "    </tr>\n",
       "  </tbody>\n",
       "</table>\n",
       "</div>"
      ],
      "text/plain": [
       "     Match_date Match_number  \\\n",
       "0  Apr 18, 2008    1st match   \n",
       "1  Apr 19, 2008    2nd match   \n",
       "2  Apr 19, 2008    3rd match   \n",
       "3  Apr 20, 2008    4th match   \n",
       "4  Apr 20, 2008    5th match   \n",
       "\n",
       "                                         Match_venue Match_time  \\\n",
       "0                   M Chinnaswamy Stadium, Bangalore      night   \n",
       "1  Punjab Cricket Association Stadium, Mohali, Ch...  day/night   \n",
       "2                            Feroz Shah Kotla, Delhi      night   \n",
       "3                              Eden Gardens, Kolkata  day/night   \n",
       "4                           Wankhede Stadium, Mumbai      night   \n",
       "\n",
       "                   Toss_winner Toss_decision                  Team1  \\\n",
       "0  Royal Challengers Bangalore         field  Kolkata Knight Riders   \n",
       "1          Chennai Super Kings           bat    Chennai Super Kings   \n",
       "2             Rajasthan Royals           bat       Rajasthan Royals   \n",
       "3              Deccan Chargers           bat        Deccan Chargers   \n",
       "4               Mumbai Indians           bat         Mumbai Indians   \n",
       "\n",
       "  Team1_score                  Team2 Team2_score                 Winning_team  \\\n",
       "0       222/3                    RCB          82        Kolkata Knight Riders   \n",
       "1       240/5        Kings XI Punjab       207/4          Chennai Super Kings   \n",
       "2       129/8       Delhi Daredevils       132/1             Delhi Daredevils   \n",
       "3         110  Kolkata Knight Riders       112/5        Kolkata Knight Riders   \n",
       "4       165/6                    RCB       166/5  Royal Challengers Bangalore   \n",
       "\n",
       "                        Winning_margin  \n",
       "0                             140 runs  \n",
       "1                              33 runs  \n",
       "2  9 wickets (with 29 balls remaining)  \n",
       "3   5 wickets (with 6 balls remaining)  \n",
       "4   5 wickets (with 2 balls remaining)  "
      ]
     },
     "execution_count": 595,
     "metadata": {},
     "output_type": "execute_result"
    }
   ],
   "source": [
    "df.head()"
   ]
  },
  {
   "cell_type": "code",
   "execution_count": 596,
   "metadata": {},
   "outputs": [],
   "source": [
    "# Function for splitting year\n",
    "def extract_year(x):\n",
    "      x = pd.to_datetime(x).strftime('%Y')\n",
    "      x = int(x)\n",
    "      return int(x)"
   ]
  },
  {
   "cell_type": "code",
   "execution_count": 597,
   "metadata": {},
   "outputs": [],
   "source": [
    "# Applying extract_year function to splitting the year from Match date and create a new column called year\n",
    "df['year'] = df['Match_date'].apply(extract_year)"
   ]
  },
  {
   "cell_type": "code",
   "execution_count": 598,
   "metadata": {},
   "outputs": [
    {
     "data": {
      "text/html": [
       "<div>\n",
       "<style scoped>\n",
       "    .dataframe tbody tr th:only-of-type {\n",
       "        vertical-align: middle;\n",
       "    }\n",
       "\n",
       "    .dataframe tbody tr th {\n",
       "        vertical-align: top;\n",
       "    }\n",
       "\n",
       "    .dataframe thead th {\n",
       "        text-align: right;\n",
       "    }\n",
       "</style>\n",
       "<table border=\"1\" class=\"dataframe\">\n",
       "  <thead>\n",
       "    <tr style=\"text-align: right;\">\n",
       "      <th></th>\n",
       "      <th>Match_date</th>\n",
       "      <th>Match_number</th>\n",
       "      <th>Match_venue</th>\n",
       "      <th>Match_time</th>\n",
       "      <th>Toss_winner</th>\n",
       "      <th>Toss_decision</th>\n",
       "      <th>Team1</th>\n",
       "      <th>Team1_score</th>\n",
       "      <th>Team2</th>\n",
       "      <th>Team2_score</th>\n",
       "      <th>Winning_team</th>\n",
       "      <th>Winning_margin</th>\n",
       "      <th>year</th>\n",
       "    </tr>\n",
       "  </thead>\n",
       "  <tbody>\n",
       "    <tr>\n",
       "      <th>0</th>\n",
       "      <td>Apr 18, 2008</td>\n",
       "      <td>1st match</td>\n",
       "      <td>M Chinnaswamy Stadium, Bangalore</td>\n",
       "      <td>night</td>\n",
       "      <td>Royal Challengers Bangalore</td>\n",
       "      <td>field</td>\n",
       "      <td>Kolkata Knight Riders</td>\n",
       "      <td>222/3</td>\n",
       "      <td>RCB</td>\n",
       "      <td>82</td>\n",
       "      <td>Kolkata Knight Riders</td>\n",
       "      <td>140 runs</td>\n",
       "      <td>2008</td>\n",
       "    </tr>\n",
       "    <tr>\n",
       "      <th>1</th>\n",
       "      <td>Apr 19, 2008</td>\n",
       "      <td>2nd match</td>\n",
       "      <td>Punjab Cricket Association Stadium, Mohali, Ch...</td>\n",
       "      <td>day/night</td>\n",
       "      <td>Chennai Super Kings</td>\n",
       "      <td>bat</td>\n",
       "      <td>Chennai Super Kings</td>\n",
       "      <td>240/5</td>\n",
       "      <td>Kings XI Punjab</td>\n",
       "      <td>207/4</td>\n",
       "      <td>Chennai Super Kings</td>\n",
       "      <td>33 runs</td>\n",
       "      <td>2008</td>\n",
       "    </tr>\n",
       "    <tr>\n",
       "      <th>2</th>\n",
       "      <td>Apr 19, 2008</td>\n",
       "      <td>3rd match</td>\n",
       "      <td>Feroz Shah Kotla, Delhi</td>\n",
       "      <td>night</td>\n",
       "      <td>Rajasthan Royals</td>\n",
       "      <td>bat</td>\n",
       "      <td>Rajasthan Royals</td>\n",
       "      <td>129/8</td>\n",
       "      <td>Delhi Daredevils</td>\n",
       "      <td>132/1</td>\n",
       "      <td>Delhi Daredevils</td>\n",
       "      <td>9 wickets (with 29 balls remaining)</td>\n",
       "      <td>2008</td>\n",
       "    </tr>\n",
       "    <tr>\n",
       "      <th>3</th>\n",
       "      <td>Apr 20, 2008</td>\n",
       "      <td>4th match</td>\n",
       "      <td>Eden Gardens, Kolkata</td>\n",
       "      <td>day/night</td>\n",
       "      <td>Deccan Chargers</td>\n",
       "      <td>bat</td>\n",
       "      <td>Deccan Chargers</td>\n",
       "      <td>110</td>\n",
       "      <td>Kolkata Knight Riders</td>\n",
       "      <td>112/5</td>\n",
       "      <td>Kolkata Knight Riders</td>\n",
       "      <td>5 wickets (with 6 balls remaining)</td>\n",
       "      <td>2008</td>\n",
       "    </tr>\n",
       "    <tr>\n",
       "      <th>4</th>\n",
       "      <td>Apr 20, 2008</td>\n",
       "      <td>5th match</td>\n",
       "      <td>Wankhede Stadium, Mumbai</td>\n",
       "      <td>night</td>\n",
       "      <td>Mumbai Indians</td>\n",
       "      <td>bat</td>\n",
       "      <td>Mumbai Indians</td>\n",
       "      <td>165/6</td>\n",
       "      <td>RCB</td>\n",
       "      <td>166/5</td>\n",
       "      <td>Royal Challengers Bangalore</td>\n",
       "      <td>5 wickets (with 2 balls remaining)</td>\n",
       "      <td>2008</td>\n",
       "    </tr>\n",
       "  </tbody>\n",
       "</table>\n",
       "</div>"
      ],
      "text/plain": [
       "     Match_date Match_number  \\\n",
       "0  Apr 18, 2008    1st match   \n",
       "1  Apr 19, 2008    2nd match   \n",
       "2  Apr 19, 2008    3rd match   \n",
       "3  Apr 20, 2008    4th match   \n",
       "4  Apr 20, 2008    5th match   \n",
       "\n",
       "                                         Match_venue Match_time  \\\n",
       "0                   M Chinnaswamy Stadium, Bangalore      night   \n",
       "1  Punjab Cricket Association Stadium, Mohali, Ch...  day/night   \n",
       "2                            Feroz Shah Kotla, Delhi      night   \n",
       "3                              Eden Gardens, Kolkata  day/night   \n",
       "4                           Wankhede Stadium, Mumbai      night   \n",
       "\n",
       "                   Toss_winner Toss_decision                  Team1  \\\n",
       "0  Royal Challengers Bangalore         field  Kolkata Knight Riders   \n",
       "1          Chennai Super Kings           bat    Chennai Super Kings   \n",
       "2             Rajasthan Royals           bat       Rajasthan Royals   \n",
       "3              Deccan Chargers           bat        Deccan Chargers   \n",
       "4               Mumbai Indians           bat         Mumbai Indians   \n",
       "\n",
       "  Team1_score                  Team2 Team2_score                 Winning_team  \\\n",
       "0       222/3                    RCB          82        Kolkata Knight Riders   \n",
       "1       240/5        Kings XI Punjab       207/4          Chennai Super Kings   \n",
       "2       129/8       Delhi Daredevils       132/1             Delhi Daredevils   \n",
       "3         110  Kolkata Knight Riders       112/5        Kolkata Knight Riders   \n",
       "4       165/6                    RCB       166/5  Royal Challengers Bangalore   \n",
       "\n",
       "                        Winning_margin  year  \n",
       "0                             140 runs  2008  \n",
       "1                              33 runs  2008  \n",
       "2  9 wickets (with 29 balls remaining)  2008  \n",
       "3   5 wickets (with 6 balls remaining)  2008  \n",
       "4   5 wickets (with 2 balls remaining)  2008  "
      ]
     },
     "execution_count": 598,
     "metadata": {},
     "output_type": "execute_result"
    }
   ],
   "source": [
    "df.head()"
   ]
  },
  {
   "cell_type": "markdown",
   "metadata": {},
   "source": [
    "Splitting the match venues into two columns one is stadium and city. Stadium stores stadium name and city stores city name"
   ]
  },
  {
   "cell_type": "code",
   "execution_count": 599,
   "metadata": {},
   "outputs": [],
   "source": [
    "df['Stadium'] = df['Match_venue'].str.split(',').str[0]"
   ]
  },
  {
   "cell_type": "code",
   "execution_count": 600,
   "metadata": {},
   "outputs": [
    {
     "data": {
      "text/plain": [
       "0                 M Chinnaswamy Stadium\n",
       "1    Punjab Cricket Association Stadium\n",
       "2                      Feroz Shah Kotla\n",
       "3                          Eden Gardens\n",
       "4                      Wankhede Stadium\n",
       "Name: Stadium, dtype: object"
      ]
     },
     "execution_count": 600,
     "metadata": {},
     "output_type": "execute_result"
    }
   ],
   "source": [
    "df['Stadium'].head()"
   ]
  },
  {
   "cell_type": "code",
   "execution_count": 601,
   "metadata": {},
   "outputs": [],
   "source": [
    "\n",
    "df['City'] = df['Match_venue'].str.split(',').str[1]"
   ]
  },
  {
   "cell_type": "code",
   "execution_count": 602,
   "metadata": {},
   "outputs": [
    {
     "data": {
      "text/html": [
       "<div>\n",
       "<style scoped>\n",
       "    .dataframe tbody tr th:only-of-type {\n",
       "        vertical-align: middle;\n",
       "    }\n",
       "\n",
       "    .dataframe tbody tr th {\n",
       "        vertical-align: top;\n",
       "    }\n",
       "\n",
       "    .dataframe thead th {\n",
       "        text-align: right;\n",
       "    }\n",
       "</style>\n",
       "<table border=\"1\" class=\"dataframe\">\n",
       "  <thead>\n",
       "    <tr style=\"text-align: right;\">\n",
       "      <th></th>\n",
       "      <th>Match_date</th>\n",
       "      <th>Match_number</th>\n",
       "      <th>Match_venue</th>\n",
       "      <th>Match_time</th>\n",
       "      <th>Toss_winner</th>\n",
       "      <th>Toss_decision</th>\n",
       "      <th>Team1</th>\n",
       "      <th>Team1_score</th>\n",
       "      <th>Team2</th>\n",
       "      <th>Team2_score</th>\n",
       "      <th>Winning_team</th>\n",
       "      <th>Winning_margin</th>\n",
       "      <th>year</th>\n",
       "      <th>Stadium</th>\n",
       "      <th>City</th>\n",
       "    </tr>\n",
       "  </thead>\n",
       "  <tbody>\n",
       "    <tr>\n",
       "      <th>0</th>\n",
       "      <td>Apr 18, 2008</td>\n",
       "      <td>1st match</td>\n",
       "      <td>M Chinnaswamy Stadium, Bangalore</td>\n",
       "      <td>night</td>\n",
       "      <td>Royal Challengers Bangalore</td>\n",
       "      <td>field</td>\n",
       "      <td>Kolkata Knight Riders</td>\n",
       "      <td>222/3</td>\n",
       "      <td>RCB</td>\n",
       "      <td>82</td>\n",
       "      <td>Kolkata Knight Riders</td>\n",
       "      <td>140 runs</td>\n",
       "      <td>2008</td>\n",
       "      <td>M Chinnaswamy Stadium</td>\n",
       "      <td>Bangalore</td>\n",
       "    </tr>\n",
       "    <tr>\n",
       "      <th>1</th>\n",
       "      <td>Apr 19, 2008</td>\n",
       "      <td>2nd match</td>\n",
       "      <td>Punjab Cricket Association Stadium, Mohali, Ch...</td>\n",
       "      <td>day/night</td>\n",
       "      <td>Chennai Super Kings</td>\n",
       "      <td>bat</td>\n",
       "      <td>Chennai Super Kings</td>\n",
       "      <td>240/5</td>\n",
       "      <td>Kings XI Punjab</td>\n",
       "      <td>207/4</td>\n",
       "      <td>Chennai Super Kings</td>\n",
       "      <td>33 runs</td>\n",
       "      <td>2008</td>\n",
       "      <td>Punjab Cricket Association Stadium</td>\n",
       "      <td>Mohali</td>\n",
       "    </tr>\n",
       "    <tr>\n",
       "      <th>2</th>\n",
       "      <td>Apr 19, 2008</td>\n",
       "      <td>3rd match</td>\n",
       "      <td>Feroz Shah Kotla, Delhi</td>\n",
       "      <td>night</td>\n",
       "      <td>Rajasthan Royals</td>\n",
       "      <td>bat</td>\n",
       "      <td>Rajasthan Royals</td>\n",
       "      <td>129/8</td>\n",
       "      <td>Delhi Daredevils</td>\n",
       "      <td>132/1</td>\n",
       "      <td>Delhi Daredevils</td>\n",
       "      <td>9 wickets (with 29 balls remaining)</td>\n",
       "      <td>2008</td>\n",
       "      <td>Feroz Shah Kotla</td>\n",
       "      <td>Delhi</td>\n",
       "    </tr>\n",
       "    <tr>\n",
       "      <th>3</th>\n",
       "      <td>Apr 20, 2008</td>\n",
       "      <td>4th match</td>\n",
       "      <td>Eden Gardens, Kolkata</td>\n",
       "      <td>day/night</td>\n",
       "      <td>Deccan Chargers</td>\n",
       "      <td>bat</td>\n",
       "      <td>Deccan Chargers</td>\n",
       "      <td>110</td>\n",
       "      <td>Kolkata Knight Riders</td>\n",
       "      <td>112/5</td>\n",
       "      <td>Kolkata Knight Riders</td>\n",
       "      <td>5 wickets (with 6 balls remaining)</td>\n",
       "      <td>2008</td>\n",
       "      <td>Eden Gardens</td>\n",
       "      <td>Kolkata</td>\n",
       "    </tr>\n",
       "    <tr>\n",
       "      <th>4</th>\n",
       "      <td>Apr 20, 2008</td>\n",
       "      <td>5th match</td>\n",
       "      <td>Wankhede Stadium, Mumbai</td>\n",
       "      <td>night</td>\n",
       "      <td>Mumbai Indians</td>\n",
       "      <td>bat</td>\n",
       "      <td>Mumbai Indians</td>\n",
       "      <td>165/6</td>\n",
       "      <td>RCB</td>\n",
       "      <td>166/5</td>\n",
       "      <td>Royal Challengers Bangalore</td>\n",
       "      <td>5 wickets (with 2 balls remaining)</td>\n",
       "      <td>2008</td>\n",
       "      <td>Wankhede Stadium</td>\n",
       "      <td>Mumbai</td>\n",
       "    </tr>\n",
       "  </tbody>\n",
       "</table>\n",
       "</div>"
      ],
      "text/plain": [
       "     Match_date Match_number  \\\n",
       "0  Apr 18, 2008    1st match   \n",
       "1  Apr 19, 2008    2nd match   \n",
       "2  Apr 19, 2008    3rd match   \n",
       "3  Apr 20, 2008    4th match   \n",
       "4  Apr 20, 2008    5th match   \n",
       "\n",
       "                                         Match_venue Match_time  \\\n",
       "0                   M Chinnaswamy Stadium, Bangalore      night   \n",
       "1  Punjab Cricket Association Stadium, Mohali, Ch...  day/night   \n",
       "2                            Feroz Shah Kotla, Delhi      night   \n",
       "3                              Eden Gardens, Kolkata  day/night   \n",
       "4                           Wankhede Stadium, Mumbai      night   \n",
       "\n",
       "                   Toss_winner Toss_decision                  Team1  \\\n",
       "0  Royal Challengers Bangalore         field  Kolkata Knight Riders   \n",
       "1          Chennai Super Kings           bat    Chennai Super Kings   \n",
       "2             Rajasthan Royals           bat       Rajasthan Royals   \n",
       "3              Deccan Chargers           bat        Deccan Chargers   \n",
       "4               Mumbai Indians           bat         Mumbai Indians   \n",
       "\n",
       "  Team1_score                  Team2 Team2_score                 Winning_team  \\\n",
       "0       222/3                    RCB          82        Kolkata Knight Riders   \n",
       "1       240/5        Kings XI Punjab       207/4          Chennai Super Kings   \n",
       "2       129/8       Delhi Daredevils       132/1             Delhi Daredevils   \n",
       "3         110  Kolkata Knight Riders       112/5        Kolkata Knight Riders   \n",
       "4       165/6                    RCB       166/5  Royal Challengers Bangalore   \n",
       "\n",
       "                        Winning_margin  year  \\\n",
       "0                             140 runs  2008   \n",
       "1                              33 runs  2008   \n",
       "2  9 wickets (with 29 balls remaining)  2008   \n",
       "3   5 wickets (with 6 balls remaining)  2008   \n",
       "4   5 wickets (with 2 balls remaining)  2008   \n",
       "\n",
       "                              Stadium        City  \n",
       "0               M Chinnaswamy Stadium   Bangalore  \n",
       "1  Punjab Cricket Association Stadium      Mohali  \n",
       "2                    Feroz Shah Kotla       Delhi  \n",
       "3                        Eden Gardens     Kolkata  \n",
       "4                    Wankhede Stadium      Mumbai  "
      ]
     },
     "execution_count": 602,
     "metadata": {},
     "output_type": "execute_result"
    }
   ],
   "source": [
    "df.head()"
   ]
  },
  {
   "cell_type": "code",
   "execution_count": 603,
   "metadata": {},
   "outputs": [],
   "source": [
    "df['Toss_decision'] = df.Toss_decision.str.title() "
   ]
  },
  {
   "cell_type": "code",
   "execution_count": 604,
   "metadata": {},
   "outputs": [],
   "source": [
    "df['Match_time'] = df.Match_time.str.title() "
   ]
  },
  {
   "cell_type": "code",
   "execution_count": 605,
   "metadata": {},
   "outputs": [
    {
     "data": {
      "text/html": [
       "<div>\n",
       "<style scoped>\n",
       "    .dataframe tbody tr th:only-of-type {\n",
       "        vertical-align: middle;\n",
       "    }\n",
       "\n",
       "    .dataframe tbody tr th {\n",
       "        vertical-align: top;\n",
       "    }\n",
       "\n",
       "    .dataframe thead th {\n",
       "        text-align: right;\n",
       "    }\n",
       "</style>\n",
       "<table border=\"1\" class=\"dataframe\">\n",
       "  <thead>\n",
       "    <tr style=\"text-align: right;\">\n",
       "      <th></th>\n",
       "      <th>Match_date</th>\n",
       "      <th>Match_number</th>\n",
       "      <th>Match_venue</th>\n",
       "      <th>Match_time</th>\n",
       "      <th>Toss_winner</th>\n",
       "      <th>Toss_decision</th>\n",
       "      <th>Team1</th>\n",
       "      <th>Team1_score</th>\n",
       "      <th>Team2</th>\n",
       "      <th>Team2_score</th>\n",
       "      <th>Winning_team</th>\n",
       "      <th>Winning_margin</th>\n",
       "      <th>year</th>\n",
       "      <th>Stadium</th>\n",
       "      <th>City</th>\n",
       "    </tr>\n",
       "  </thead>\n",
       "  <tbody>\n",
       "    <tr>\n",
       "      <th>0</th>\n",
       "      <td>Apr 18, 2008</td>\n",
       "      <td>1st match</td>\n",
       "      <td>M Chinnaswamy Stadium, Bangalore</td>\n",
       "      <td>Night</td>\n",
       "      <td>Royal Challengers Bangalore</td>\n",
       "      <td>Field</td>\n",
       "      <td>Kolkata Knight Riders</td>\n",
       "      <td>222/3</td>\n",
       "      <td>RCB</td>\n",
       "      <td>82</td>\n",
       "      <td>Kolkata Knight Riders</td>\n",
       "      <td>140 runs</td>\n",
       "      <td>2008</td>\n",
       "      <td>M Chinnaswamy Stadium</td>\n",
       "      <td>Bangalore</td>\n",
       "    </tr>\n",
       "    <tr>\n",
       "      <th>1</th>\n",
       "      <td>Apr 19, 2008</td>\n",
       "      <td>2nd match</td>\n",
       "      <td>Punjab Cricket Association Stadium, Mohali, Ch...</td>\n",
       "      <td>Day/Night</td>\n",
       "      <td>Chennai Super Kings</td>\n",
       "      <td>Bat</td>\n",
       "      <td>Chennai Super Kings</td>\n",
       "      <td>240/5</td>\n",
       "      <td>Kings XI Punjab</td>\n",
       "      <td>207/4</td>\n",
       "      <td>Chennai Super Kings</td>\n",
       "      <td>33 runs</td>\n",
       "      <td>2008</td>\n",
       "      <td>Punjab Cricket Association Stadium</td>\n",
       "      <td>Mohali</td>\n",
       "    </tr>\n",
       "    <tr>\n",
       "      <th>2</th>\n",
       "      <td>Apr 19, 2008</td>\n",
       "      <td>3rd match</td>\n",
       "      <td>Feroz Shah Kotla, Delhi</td>\n",
       "      <td>Night</td>\n",
       "      <td>Rajasthan Royals</td>\n",
       "      <td>Bat</td>\n",
       "      <td>Rajasthan Royals</td>\n",
       "      <td>129/8</td>\n",
       "      <td>Delhi Daredevils</td>\n",
       "      <td>132/1</td>\n",
       "      <td>Delhi Daredevils</td>\n",
       "      <td>9 wickets (with 29 balls remaining)</td>\n",
       "      <td>2008</td>\n",
       "      <td>Feroz Shah Kotla</td>\n",
       "      <td>Delhi</td>\n",
       "    </tr>\n",
       "    <tr>\n",
       "      <th>3</th>\n",
       "      <td>Apr 20, 2008</td>\n",
       "      <td>4th match</td>\n",
       "      <td>Eden Gardens, Kolkata</td>\n",
       "      <td>Day/Night</td>\n",
       "      <td>Deccan Chargers</td>\n",
       "      <td>Bat</td>\n",
       "      <td>Deccan Chargers</td>\n",
       "      <td>110</td>\n",
       "      <td>Kolkata Knight Riders</td>\n",
       "      <td>112/5</td>\n",
       "      <td>Kolkata Knight Riders</td>\n",
       "      <td>5 wickets (with 6 balls remaining)</td>\n",
       "      <td>2008</td>\n",
       "      <td>Eden Gardens</td>\n",
       "      <td>Kolkata</td>\n",
       "    </tr>\n",
       "    <tr>\n",
       "      <th>4</th>\n",
       "      <td>Apr 20, 2008</td>\n",
       "      <td>5th match</td>\n",
       "      <td>Wankhede Stadium, Mumbai</td>\n",
       "      <td>Night</td>\n",
       "      <td>Mumbai Indians</td>\n",
       "      <td>Bat</td>\n",
       "      <td>Mumbai Indians</td>\n",
       "      <td>165/6</td>\n",
       "      <td>RCB</td>\n",
       "      <td>166/5</td>\n",
       "      <td>Royal Challengers Bangalore</td>\n",
       "      <td>5 wickets (with 2 balls remaining)</td>\n",
       "      <td>2008</td>\n",
       "      <td>Wankhede Stadium</td>\n",
       "      <td>Mumbai</td>\n",
       "    </tr>\n",
       "  </tbody>\n",
       "</table>\n",
       "</div>"
      ],
      "text/plain": [
       "     Match_date Match_number  \\\n",
       "0  Apr 18, 2008    1st match   \n",
       "1  Apr 19, 2008    2nd match   \n",
       "2  Apr 19, 2008    3rd match   \n",
       "3  Apr 20, 2008    4th match   \n",
       "4  Apr 20, 2008    5th match   \n",
       "\n",
       "                                         Match_venue Match_time  \\\n",
       "0                   M Chinnaswamy Stadium, Bangalore      Night   \n",
       "1  Punjab Cricket Association Stadium, Mohali, Ch...  Day/Night   \n",
       "2                            Feroz Shah Kotla, Delhi      Night   \n",
       "3                              Eden Gardens, Kolkata  Day/Night   \n",
       "4                           Wankhede Stadium, Mumbai      Night   \n",
       "\n",
       "                   Toss_winner Toss_decision                  Team1  \\\n",
       "0  Royal Challengers Bangalore         Field  Kolkata Knight Riders   \n",
       "1          Chennai Super Kings           Bat    Chennai Super Kings   \n",
       "2             Rajasthan Royals           Bat       Rajasthan Royals   \n",
       "3              Deccan Chargers           Bat        Deccan Chargers   \n",
       "4               Mumbai Indians           Bat         Mumbai Indians   \n",
       "\n",
       "  Team1_score                  Team2 Team2_score                 Winning_team  \\\n",
       "0       222/3                    RCB          82        Kolkata Knight Riders   \n",
       "1       240/5        Kings XI Punjab       207/4          Chennai Super Kings   \n",
       "2       129/8       Delhi Daredevils       132/1             Delhi Daredevils   \n",
       "3         110  Kolkata Knight Riders       112/5        Kolkata Knight Riders   \n",
       "4       165/6                    RCB       166/5  Royal Challengers Bangalore   \n",
       "\n",
       "                        Winning_margin  year  \\\n",
       "0                             140 runs  2008   \n",
       "1                              33 runs  2008   \n",
       "2  9 wickets (with 29 balls remaining)  2008   \n",
       "3   5 wickets (with 6 balls remaining)  2008   \n",
       "4   5 wickets (with 2 balls remaining)  2008   \n",
       "\n",
       "                              Stadium        City  \n",
       "0               M Chinnaswamy Stadium   Bangalore  \n",
       "1  Punjab Cricket Association Stadium      Mohali  \n",
       "2                    Feroz Shah Kotla       Delhi  \n",
       "3                        Eden Gardens     Kolkata  \n",
       "4                    Wankhede Stadium      Mumbai  "
      ]
     },
     "execution_count": 605,
     "metadata": {},
     "output_type": "execute_result"
    }
   ],
   "source": [
    "df.head()"
   ]
  },
  {
   "cell_type": "code",
   "execution_count": 606,
   "metadata": {},
   "outputs": [
    {
     "data": {
      "text/plain": [
       "Match_date         0\n",
       "Match_number       0\n",
       "Match_venue        0\n",
       "Match_time         0\n",
       "Toss_winner        2\n",
       "Toss_decision      2\n",
       "Team1              0\n",
       "Team1_score        8\n",
       "Team2              0\n",
       "Team2_score       10\n",
       "Winning_team       0\n",
       "Winning_margin    18\n",
       "year               0\n",
       "Stadium            0\n",
       "City              13\n",
       "dtype: int64"
      ]
     },
     "execution_count": 606,
     "metadata": {},
     "output_type": "execute_result"
    }
   ],
   "source": [
    "df.isnull().sum()"
   ]
  },
  {
   "cell_type": "code",
   "execution_count": 607,
   "metadata": {},
   "outputs": [
    {
     "data": {
      "text/plain": [
       "(704, 15)"
      ]
     },
     "execution_count": 607,
     "metadata": {},
     "output_type": "execute_result"
    }
   ],
   "source": [
    "df.shape"
   ]
  },
  {
   "cell_type": "code",
   "execution_count": 608,
   "metadata": {},
   "outputs": [],
   "source": [
    "# Splitting the team score 1 and keeping only scores\n",
    "df['Team1_score'] = df['Team1_score'].str.split('/', expand = True)"
   ]
  },
  {
   "cell_type": "code",
   "execution_count": 609,
   "metadata": {},
   "outputs": [
    {
     "data": {
      "text/plain": [
       "Match_date         0\n",
       "Match_number       0\n",
       "Match_venue        0\n",
       "Match_time         0\n",
       "Toss_winner        2\n",
       "Toss_decision      2\n",
       "Team1              0\n",
       "Team1_score        8\n",
       "Team2              0\n",
       "Team2_score       10\n",
       "Winning_team       0\n",
       "Winning_margin    18\n",
       "year               0\n",
       "Stadium            0\n",
       "City              13\n",
       "dtype: int64"
      ]
     },
     "execution_count": 609,
     "metadata": {},
     "output_type": "execute_result"
    }
   ],
   "source": [
    "df.isnull().sum()"
   ]
  },
  {
   "cell_type": "code",
   "execution_count": 610,
   "metadata": {},
   "outputs": [],
   "source": [
    "# Splitting the team score 2 and keeping only scores\n",
    "df['Team2_score'] = df['Team2_score'].str.split('/', expand = True)"
   ]
  },
  {
   "cell_type": "code",
   "execution_count": 612,
   "metadata": {
    "collapsed": true
   },
   "outputs": [
    {
     "data": {
      "text/plain": [
       "Match_date         0\n",
       "Match_number       0\n",
       "Match_venue        0\n",
       "Match_time         0\n",
       "Toss_winner        2\n",
       "Toss_decision      2\n",
       "Team1              0\n",
       "Team1_score        8\n",
       "Team2              0\n",
       "Team2_score       10\n",
       "Winning_team       0\n",
       "Winning_margin    18\n",
       "year               0\n",
       "Stadium            0\n",
       "City              13\n",
       "dtype: int64"
      ]
     },
     "execution_count": 612,
     "metadata": {},
     "output_type": "execute_result"
    }
   ],
   "source": [
    "df.isnull().sum()"
   ]
  },
  {
   "cell_type": "code",
   "execution_count": 613,
   "metadata": {
    "collapsed": true
   },
   "outputs": [
    {
     "data": {
      "text/plain": [
       "Match_date        object\n",
       "Match_number      object\n",
       "Match_venue       object\n",
       "Match_time        object\n",
       "Toss_winner       object\n",
       "Toss_decision     object\n",
       "Team1             object\n",
       "Team1_score       object\n",
       "Team2             object\n",
       "Team2_score       object\n",
       "Winning_team      object\n",
       "Winning_margin    object\n",
       "year               int64\n",
       "Stadium           object\n",
       "City              object\n",
       "dtype: object"
      ]
     },
     "execution_count": 613,
     "metadata": {},
     "output_type": "execute_result"
    }
   ],
   "source": [
    "df.dtypes"
   ]
  },
  {
   "cell_type": "code",
   "execution_count": 614,
   "metadata": {},
   "outputs": [
    {
     "data": {
      "text/html": [
       "<div>\n",
       "<style scoped>\n",
       "    .dataframe tbody tr th:only-of-type {\n",
       "        vertical-align: middle;\n",
       "    }\n",
       "\n",
       "    .dataframe tbody tr th {\n",
       "        vertical-align: top;\n",
       "    }\n",
       "\n",
       "    .dataframe thead th {\n",
       "        text-align: right;\n",
       "    }\n",
       "</style>\n",
       "<table border=\"1\" class=\"dataframe\">\n",
       "  <thead>\n",
       "    <tr style=\"text-align: right;\">\n",
       "      <th></th>\n",
       "      <th>Match_date</th>\n",
       "      <th>Match_number</th>\n",
       "      <th>Match_venue</th>\n",
       "      <th>Match_time</th>\n",
       "      <th>Toss_winner</th>\n",
       "      <th>Toss_decision</th>\n",
       "      <th>Team1</th>\n",
       "      <th>Team1_score</th>\n",
       "      <th>Team2</th>\n",
       "      <th>Team2_score</th>\n",
       "      <th>Winning_team</th>\n",
       "      <th>Winning_margin</th>\n",
       "      <th>year</th>\n",
       "      <th>Stadium</th>\n",
       "      <th>City</th>\n",
       "    </tr>\n",
       "  </thead>\n",
       "  <tbody>\n",
       "    <tr>\n",
       "      <th>0</th>\n",
       "      <td>Apr 18, 2008</td>\n",
       "      <td>1st match</td>\n",
       "      <td>M Chinnaswamy Stadium, Bangalore</td>\n",
       "      <td>Night</td>\n",
       "      <td>Royal Challengers Bangalore</td>\n",
       "      <td>Field</td>\n",
       "      <td>Kolkata Knight Riders</td>\n",
       "      <td>222</td>\n",
       "      <td>RCB</td>\n",
       "      <td>82</td>\n",
       "      <td>Kolkata Knight Riders</td>\n",
       "      <td>140 runs</td>\n",
       "      <td>2008</td>\n",
       "      <td>M Chinnaswamy Stadium</td>\n",
       "      <td>Bangalore</td>\n",
       "    </tr>\n",
       "    <tr>\n",
       "      <th>1</th>\n",
       "      <td>Apr 19, 2008</td>\n",
       "      <td>2nd match</td>\n",
       "      <td>Punjab Cricket Association Stadium, Mohali, Ch...</td>\n",
       "      <td>Day/Night</td>\n",
       "      <td>Chennai Super Kings</td>\n",
       "      <td>Bat</td>\n",
       "      <td>Chennai Super Kings</td>\n",
       "      <td>240</td>\n",
       "      <td>Kings XI Punjab</td>\n",
       "      <td>207</td>\n",
       "      <td>Chennai Super Kings</td>\n",
       "      <td>33 runs</td>\n",
       "      <td>2008</td>\n",
       "      <td>Punjab Cricket Association Stadium</td>\n",
       "      <td>Mohali</td>\n",
       "    </tr>\n",
       "    <tr>\n",
       "      <th>2</th>\n",
       "      <td>Apr 19, 2008</td>\n",
       "      <td>3rd match</td>\n",
       "      <td>Feroz Shah Kotla, Delhi</td>\n",
       "      <td>Night</td>\n",
       "      <td>Rajasthan Royals</td>\n",
       "      <td>Bat</td>\n",
       "      <td>Rajasthan Royals</td>\n",
       "      <td>129</td>\n",
       "      <td>Delhi Daredevils</td>\n",
       "      <td>132</td>\n",
       "      <td>Delhi Daredevils</td>\n",
       "      <td>9 wickets (with 29 balls remaining)</td>\n",
       "      <td>2008</td>\n",
       "      <td>Feroz Shah Kotla</td>\n",
       "      <td>Delhi</td>\n",
       "    </tr>\n",
       "    <tr>\n",
       "      <th>3</th>\n",
       "      <td>Apr 20, 2008</td>\n",
       "      <td>4th match</td>\n",
       "      <td>Eden Gardens, Kolkata</td>\n",
       "      <td>Day/Night</td>\n",
       "      <td>Deccan Chargers</td>\n",
       "      <td>Bat</td>\n",
       "      <td>Deccan Chargers</td>\n",
       "      <td>110</td>\n",
       "      <td>Kolkata Knight Riders</td>\n",
       "      <td>112</td>\n",
       "      <td>Kolkata Knight Riders</td>\n",
       "      <td>5 wickets (with 6 balls remaining)</td>\n",
       "      <td>2008</td>\n",
       "      <td>Eden Gardens</td>\n",
       "      <td>Kolkata</td>\n",
       "    </tr>\n",
       "    <tr>\n",
       "      <th>4</th>\n",
       "      <td>Apr 20, 2008</td>\n",
       "      <td>5th match</td>\n",
       "      <td>Wankhede Stadium, Mumbai</td>\n",
       "      <td>Night</td>\n",
       "      <td>Mumbai Indians</td>\n",
       "      <td>Bat</td>\n",
       "      <td>Mumbai Indians</td>\n",
       "      <td>165</td>\n",
       "      <td>RCB</td>\n",
       "      <td>166</td>\n",
       "      <td>Royal Challengers Bangalore</td>\n",
       "      <td>5 wickets (with 2 balls remaining)</td>\n",
       "      <td>2008</td>\n",
       "      <td>Wankhede Stadium</td>\n",
       "      <td>Mumbai</td>\n",
       "    </tr>\n",
       "  </tbody>\n",
       "</table>\n",
       "</div>"
      ],
      "text/plain": [
       "     Match_date Match_number  \\\n",
       "0  Apr 18, 2008    1st match   \n",
       "1  Apr 19, 2008    2nd match   \n",
       "2  Apr 19, 2008    3rd match   \n",
       "3  Apr 20, 2008    4th match   \n",
       "4  Apr 20, 2008    5th match   \n",
       "\n",
       "                                         Match_venue Match_time  \\\n",
       "0                   M Chinnaswamy Stadium, Bangalore      Night   \n",
       "1  Punjab Cricket Association Stadium, Mohali, Ch...  Day/Night   \n",
       "2                            Feroz Shah Kotla, Delhi      Night   \n",
       "3                              Eden Gardens, Kolkata  Day/Night   \n",
       "4                           Wankhede Stadium, Mumbai      Night   \n",
       "\n",
       "                   Toss_winner Toss_decision                  Team1  \\\n",
       "0  Royal Challengers Bangalore         Field  Kolkata Knight Riders   \n",
       "1          Chennai Super Kings           Bat    Chennai Super Kings   \n",
       "2             Rajasthan Royals           Bat       Rajasthan Royals   \n",
       "3              Deccan Chargers           Bat        Deccan Chargers   \n",
       "4               Mumbai Indians           Bat         Mumbai Indians   \n",
       "\n",
       "  Team1_score                  Team2 Team2_score                 Winning_team  \\\n",
       "0         222                    RCB          82        Kolkata Knight Riders   \n",
       "1         240        Kings XI Punjab         207          Chennai Super Kings   \n",
       "2         129       Delhi Daredevils         132             Delhi Daredevils   \n",
       "3         110  Kolkata Knight Riders         112        Kolkata Knight Riders   \n",
       "4         165                    RCB         166  Royal Challengers Bangalore   \n",
       "\n",
       "                        Winning_margin  year  \\\n",
       "0                             140 runs  2008   \n",
       "1                              33 runs  2008   \n",
       "2  9 wickets (with 29 balls remaining)  2008   \n",
       "3   5 wickets (with 6 balls remaining)  2008   \n",
       "4   5 wickets (with 2 balls remaining)  2008   \n",
       "\n",
       "                              Stadium        City  \n",
       "0               M Chinnaswamy Stadium   Bangalore  \n",
       "1  Punjab Cricket Association Stadium      Mohali  \n",
       "2                    Feroz Shah Kotla       Delhi  \n",
       "3                        Eden Gardens     Kolkata  \n",
       "4                    Wankhede Stadium      Mumbai  "
      ]
     },
     "execution_count": 614,
     "metadata": {},
     "output_type": "execute_result"
    }
   ],
   "source": [
    "df.head()"
   ]
  },
  {
   "cell_type": "code",
   "execution_count": 615,
   "metadata": {},
   "outputs": [],
   "source": [
    "# Deleting match date column\n",
    "del df['Match_date']"
   ]
  },
  {
   "cell_type": "code",
   "execution_count": 616,
   "metadata": {},
   "outputs": [],
   "source": [
    "# Replacing Day/Night into Eveening in Match Time column\n",
    "\n",
    "df['Match_time'].replace('Day/Night', 'Evening', inplace = True)"
   ]
  },
  {
   "cell_type": "code",
   "execution_count": 617,
   "metadata": {},
   "outputs": [
    {
     "data": {
      "text/plain": [
       "Match_number       0\n",
       "Match_venue        0\n",
       "Match_time         0\n",
       "Toss_winner        2\n",
       "Toss_decision      2\n",
       "Team1              0\n",
       "Team1_score        8\n",
       "Team2              0\n",
       "Team2_score       10\n",
       "Winning_team       0\n",
       "Winning_margin    18\n",
       "year               0\n",
       "Stadium            0\n",
       "City              13\n",
       "dtype: int64"
      ]
     },
     "execution_count": 617,
     "metadata": {},
     "output_type": "execute_result"
    }
   ],
   "source": [
    "df.isnull().sum()"
   ]
  },
  {
   "cell_type": "code",
   "execution_count": 618,
   "metadata": {},
   "outputs": [],
   "source": [
    "    # Splitting unwanted strings for easy plotting in winning margin\n",
    "\n",
    "df['Winning_margin'] = df['Winning_margin'].str.split('(', expand = True)"
   ]
  },
  {
   "cell_type": "code",
   "execution_count": 619,
   "metadata": {},
   "outputs": [],
   "source": [
    "# Splitting unwanted strings for easy plotting in wiining team\n",
    "\n",
    "df['Winning_team'] = df['Winning_team'].str.split('(', expand = True)"
   ]
  },
  {
   "cell_type": "code",
   "execution_count": 620,
   "metadata": {},
   "outputs": [],
   "source": [
    "# Replacing lengthy string into short for easy labelling in plotting - Winning team\n",
    "\n",
    "df['Winning_team'].replace('Match abandoned without a ball bowled', 'Match cancelled', inplace = True)"
   ]
  },
  {
   "cell_type": "code",
   "execution_count": 621,
   "metadata": {},
   "outputs": [],
   "source": [
    "df['Winning_team'].replace('Match tied', 'Match Draw', inplace = True)"
   ]
  },
  {
   "cell_type": "code",
   "execution_count": 622,
   "metadata": {},
   "outputs": [],
   "source": [
    "df['Winning_team'].replace('No result', 'Match Cancelled', inplace = True)"
   ]
  },
  {
   "cell_type": "code",
   "execution_count": 623,
   "metadata": {},
   "outputs": [],
   "source": [
    "# Filling missing values in Wiining margin from winning team\n",
    "\n",
    "df.Winning_margin.fillna(df.Winning_team, inplace=True)"
   ]
  },
  {
   "cell_type": "code",
   "execution_count": 624,
   "metadata": {},
   "outputs": [
    {
     "data": {
      "text/plain": [
       "Match_number       0\n",
       "Match_venue        0\n",
       "Match_time         0\n",
       "Toss_winner        2\n",
       "Toss_decision      2\n",
       "Team1              0\n",
       "Team1_score        8\n",
       "Team2              0\n",
       "Team2_score       10\n",
       "Winning_team       0\n",
       "Winning_margin     0\n",
       "year               0\n",
       "Stadium            0\n",
       "City              13\n",
       "dtype: int64"
      ]
     },
     "execution_count": 624,
     "metadata": {},
     "output_type": "execute_result"
    }
   ],
   "source": [
    "df.isnull().sum()"
   ]
  },
  {
   "cell_type": "code",
   "execution_count": 625,
   "metadata": {},
   "outputs": [],
   "source": [
    "# Filling missing values with match cancelled in Team1_score\n",
    "df.Team1_score.fillna('0', inplace = True)"
   ]
  },
  {
   "cell_type": "code",
   "execution_count": 626,
   "metadata": {},
   "outputs": [],
   "source": [
    "# Filling missing values in Team2 score from Team1 score\n",
    "df.Team2_score.fillna(df.Team1_score, inplace = True)"
   ]
  },
  {
   "cell_type": "code",
   "execution_count": 627,
   "metadata": {},
   "outputs": [],
   "source": [
    "# Replacing Rajasthan into field in Toss decision \n",
    "df['Toss_decision'].replace('Rajasthan', 'Field', inplace = True)"
   ]
  },
  {
   "cell_type": "code",
   "execution_count": 628,
   "metadata": {},
   "outputs": [],
   "source": [
    "# Replacing No into Match Cancelled in Toss decision \n",
    "df['Toss_decision'].replace('No', 'Match Cancelled', inplace = True)"
   ]
  },
  {
   "cell_type": "code",
   "execution_count": 629,
   "metadata": {},
   "outputs": [],
   "source": [
    "# Filling missing values into match cancelled in Toss decision\n",
    "df['Toss_decision'].fillna('Match Cancelled', inplace = True)"
   ]
  },
  {
   "cell_type": "code",
   "execution_count": 630,
   "metadata": {},
   "outputs": [],
   "source": [
    "# Filling missing values into match cancelled in Toss winner\n",
    "df['Toss_winner'].fillna('Match Cancelled', inplace = True)"
   ]
  },
  {
   "cell_type": "code",
   "execution_count": 631,
   "metadata": {},
   "outputs": [],
   "source": [
    "# Filling missing values into evening (median) in Match time column\n",
    "\n",
    "df['Match_time'].fillna('Evening', inplace = True)"
   ]
  },
  {
   "cell_type": "code",
   "execution_count": 632,
   "metadata": {},
   "outputs": [],
   "source": [
    "# Filling missing values in City from stadium\n",
    "df.City.fillna(df.Stadium, inplace = True)"
   ]
  },
  {
   "cell_type": "code",
   "execution_count": 633,
   "metadata": {},
   "outputs": [],
   "source": [
    "# changing the names in City for easy labelling\n",
    "df['City'].replace('Sharjah Cricket Stadium', 'Sharjah', inplace = True)"
   ]
  },
  {
   "cell_type": "code",
   "execution_count": 634,
   "metadata": {},
   "outputs": [],
   "source": [
    "df['City'].replace('Bengaluru', 'Bangalore', inplace = True)"
   ]
  },
  {
   "cell_type": "code",
   "execution_count": 635,
   "metadata": {},
   "outputs": [],
   "source": [
    "df['City'].replace('Dubai International Cricket Stadium', 'Dubai', inplace = True)"
   ]
  },
  {
   "cell_type": "code",
   "execution_count": 644,
   "metadata": {},
   "outputs": [],
   "source": [
    "# Replacing 2028 into 2018 in the year column\n",
    "\n",
    "df['year'].replace('2028', '2018', inplace = True)"
   ]
  },
  {
   "cell_type": "code",
   "execution_count": 637,
   "metadata": {
    "collapsed": true
   },
   "outputs": [
    {
     "data": {
      "text/plain": [
       "Match_number      object\n",
       "Match_venue       object\n",
       "Match_time        object\n",
       "Toss_winner       object\n",
       "Toss_decision     object\n",
       "Team1             object\n",
       "Team1_score       object\n",
       "Team2             object\n",
       "Team2_score       object\n",
       "Winning_team      object\n",
       "Winning_margin    object\n",
       "year               int64\n",
       "Stadium           object\n",
       "City              object\n",
       "dtype: object"
      ]
     },
     "execution_count": 637,
     "metadata": {},
     "output_type": "execute_result"
    }
   ],
   "source": [
    "df.dtypes"
   ]
  },
  {
   "cell_type": "code",
   "execution_count": 638,
   "metadata": {
    "collapsed": true
   },
   "outputs": [
    {
     "data": {
      "text/html": [
       "<div>\n",
       "<style scoped>\n",
       "    .dataframe tbody tr th:only-of-type {\n",
       "        vertical-align: middle;\n",
       "    }\n",
       "\n",
       "    .dataframe tbody tr th {\n",
       "        vertical-align: top;\n",
       "    }\n",
       "\n",
       "    .dataframe thead th {\n",
       "        text-align: right;\n",
       "    }\n",
       "</style>\n",
       "<table border=\"1\" class=\"dataframe\">\n",
       "  <thead>\n",
       "    <tr style=\"text-align: right;\">\n",
       "      <th></th>\n",
       "      <th>Match_number</th>\n",
       "      <th>Match_venue</th>\n",
       "      <th>Match_time</th>\n",
       "      <th>Toss_winner</th>\n",
       "      <th>Toss_decision</th>\n",
       "      <th>Team1</th>\n",
       "      <th>Team1_score</th>\n",
       "      <th>Team2</th>\n",
       "      <th>Team2_score</th>\n",
       "      <th>Winning_team</th>\n",
       "      <th>Winning_margin</th>\n",
       "      <th>year</th>\n",
       "      <th>Stadium</th>\n",
       "      <th>City</th>\n",
       "    </tr>\n",
       "  </thead>\n",
       "  <tbody>\n",
       "    <tr>\n",
       "      <th>0</th>\n",
       "      <td>1st match</td>\n",
       "      <td>M Chinnaswamy Stadium, Bangalore</td>\n",
       "      <td>Night</td>\n",
       "      <td>Royal Challengers Bangalore</td>\n",
       "      <td>Field</td>\n",
       "      <td>Kolkata Knight Riders</td>\n",
       "      <td>222</td>\n",
       "      <td>RCB</td>\n",
       "      <td>82</td>\n",
       "      <td>Kolkata Knight Riders</td>\n",
       "      <td>140 runs</td>\n",
       "      <td>2008</td>\n",
       "      <td>M Chinnaswamy Stadium</td>\n",
       "      <td>Bangalore</td>\n",
       "    </tr>\n",
       "    <tr>\n",
       "      <th>1</th>\n",
       "      <td>2nd match</td>\n",
       "      <td>Punjab Cricket Association Stadium, Mohali, Ch...</td>\n",
       "      <td>Evening</td>\n",
       "      <td>Chennai Super Kings</td>\n",
       "      <td>Bat</td>\n",
       "      <td>Chennai Super Kings</td>\n",
       "      <td>240</td>\n",
       "      <td>Kings XI Punjab</td>\n",
       "      <td>207</td>\n",
       "      <td>Chennai Super Kings</td>\n",
       "      <td>33 runs</td>\n",
       "      <td>2008</td>\n",
       "      <td>Punjab Cricket Association Stadium</td>\n",
       "      <td>Mohali</td>\n",
       "    </tr>\n",
       "    <tr>\n",
       "      <th>2</th>\n",
       "      <td>3rd match</td>\n",
       "      <td>Feroz Shah Kotla, Delhi</td>\n",
       "      <td>Night</td>\n",
       "      <td>Rajasthan Royals</td>\n",
       "      <td>Bat</td>\n",
       "      <td>Rajasthan Royals</td>\n",
       "      <td>129</td>\n",
       "      <td>Delhi Daredevils</td>\n",
       "      <td>132</td>\n",
       "      <td>Delhi Daredevils</td>\n",
       "      <td>9 wickets</td>\n",
       "      <td>2008</td>\n",
       "      <td>Feroz Shah Kotla</td>\n",
       "      <td>Delhi</td>\n",
       "    </tr>\n",
       "    <tr>\n",
       "      <th>3</th>\n",
       "      <td>4th match</td>\n",
       "      <td>Eden Gardens, Kolkata</td>\n",
       "      <td>Evening</td>\n",
       "      <td>Deccan Chargers</td>\n",
       "      <td>Bat</td>\n",
       "      <td>Deccan Chargers</td>\n",
       "      <td>110</td>\n",
       "      <td>Kolkata Knight Riders</td>\n",
       "      <td>112</td>\n",
       "      <td>Kolkata Knight Riders</td>\n",
       "      <td>5 wickets</td>\n",
       "      <td>2008</td>\n",
       "      <td>Eden Gardens</td>\n",
       "      <td>Kolkata</td>\n",
       "    </tr>\n",
       "    <tr>\n",
       "      <th>4</th>\n",
       "      <td>5th match</td>\n",
       "      <td>Wankhede Stadium, Mumbai</td>\n",
       "      <td>Night</td>\n",
       "      <td>Mumbai Indians</td>\n",
       "      <td>Bat</td>\n",
       "      <td>Mumbai Indians</td>\n",
       "      <td>165</td>\n",
       "      <td>RCB</td>\n",
       "      <td>166</td>\n",
       "      <td>Royal Challengers Bangalore</td>\n",
       "      <td>5 wickets</td>\n",
       "      <td>2008</td>\n",
       "      <td>Wankhede Stadium</td>\n",
       "      <td>Mumbai</td>\n",
       "    </tr>\n",
       "  </tbody>\n",
       "</table>\n",
       "</div>"
      ],
      "text/plain": [
       "  Match_number                                        Match_venue Match_time  \\\n",
       "0    1st match                   M Chinnaswamy Stadium, Bangalore      Night   \n",
       "1    2nd match  Punjab Cricket Association Stadium, Mohali, Ch...    Evening   \n",
       "2    3rd match                            Feroz Shah Kotla, Delhi      Night   \n",
       "3    4th match                              Eden Gardens, Kolkata    Evening   \n",
       "4    5th match                           Wankhede Stadium, Mumbai      Night   \n",
       "\n",
       "                   Toss_winner Toss_decision                  Team1  \\\n",
       "0  Royal Challengers Bangalore         Field  Kolkata Knight Riders   \n",
       "1          Chennai Super Kings           Bat    Chennai Super Kings   \n",
       "2             Rajasthan Royals           Bat       Rajasthan Royals   \n",
       "3              Deccan Chargers           Bat        Deccan Chargers   \n",
       "4               Mumbai Indians           Bat         Mumbai Indians   \n",
       "\n",
       "  Team1_score                  Team2 Team2_score                 Winning_team  \\\n",
       "0         222                    RCB          82        Kolkata Knight Riders   \n",
       "1         240        Kings XI Punjab         207          Chennai Super Kings   \n",
       "2         129       Delhi Daredevils         132             Delhi Daredevils   \n",
       "3         110  Kolkata Knight Riders         112        Kolkata Knight Riders   \n",
       "4         165                    RCB         166  Royal Challengers Bangalore   \n",
       "\n",
       "  Winning_margin  year                             Stadium        City  \n",
       "0       140 runs  2008               M Chinnaswamy Stadium   Bangalore  \n",
       "1        33 runs  2008  Punjab Cricket Association Stadium      Mohali  \n",
       "2     9 wickets   2008                    Feroz Shah Kotla       Delhi  \n",
       "3     5 wickets   2008                        Eden Gardens     Kolkata  \n",
       "4     5 wickets   2008                    Wankhede Stadium      Mumbai  "
      ]
     },
     "execution_count": 638,
     "metadata": {},
     "output_type": "execute_result"
    }
   ],
   "source": [
    "df.head()"
   ]
  },
  {
   "cell_type": "code",
   "execution_count": 639,
   "metadata": {},
   "outputs": [],
   "source": [
    "# Changing team 1 and team 2 score into integer\n",
    "df['Team1_score'] = df['Team1_score'].apply(pd.to_numeric)"
   ]
  },
  {
   "cell_type": "code",
   "execution_count": 640,
   "metadata": {},
   "outputs": [],
   "source": [
    "df['Team2_score'] = df['Team2_score'].apply(pd.to_numeric)"
   ]
  },
  {
   "cell_type": "code",
   "execution_count": 641,
   "metadata": {},
   "outputs": [
    {
     "data": {
      "text/plain": [
       "Match_number      object\n",
       "Match_venue       object\n",
       "Match_time        object\n",
       "Toss_winner       object\n",
       "Toss_decision     object\n",
       "Team1             object\n",
       "Team1_score        int64\n",
       "Team2             object\n",
       "Team2_score        int64\n",
       "Winning_team      object\n",
       "Winning_margin    object\n",
       "year               int64\n",
       "Stadium           object\n",
       "City              object\n",
       "dtype: object"
      ]
     },
     "execution_count": 641,
     "metadata": {},
     "output_type": "execute_result"
    }
   ],
   "source": [
    "df.dtypes"
   ]
  },
  {
   "cell_type": "code",
   "execution_count": 478,
   "metadata": {},
   "outputs": [],
   "source": [
    "# Saving file for our visualization in Tableau\n",
    "df.to_csv(\"IPL20.csv\")"
   ]
  }
 ],
 "metadata": {
  "kernelspec": {
   "display_name": "Python 3",
   "language": "python",
   "name": "python3"
  },
  "language_info": {
   "codemirror_mode": {
    "name": "ipython",
    "version": 3
   },
   "file_extension": ".py",
   "mimetype": "text/x-python",
   "name": "python",
   "nbconvert_exporter": "python",
   "pygments_lexer": "ipython3",
   "version": "3.7.3"
  }
 },
 "nbformat": 4,
 "nbformat_minor": 2
}
